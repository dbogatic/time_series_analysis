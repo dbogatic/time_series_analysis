{
 "cells": [
  {
   "cell_type": "code",
   "execution_count": 1,
   "metadata": {},
   "outputs": [],
   "source": [
    "# Import libraries\n",
    "import datetime as dt\n",
    "import pandas as pd\n",
    "import numpy as np\n",
    "import pandas_datareader.data as web\n",
    "from arch.bootstrap import StationaryBootstrap\n",
    "import matplotlib.pyplot as plt\n",
    "%matplotlib inline\n"
   ]
  },
  {
   "cell_type": "code",
   "execution_count": 2,
   "metadata": {},
   "outputs": [],
   "source": [
    "# Read in stock prices using pandas datareader\n",
    "start = ('1-01-2001')\n",
    "end = ('12-31-2021')\n",
    "\n",
    "df = web.DataReader(\"AAPL\", 'yahoo', start, end)"
   ]
  },
  {
   "cell_type": "code",
   "execution_count": 3,
   "metadata": {},
   "outputs": [
    {
     "data": {
      "text/html": [
       "<div>\n",
       "<style scoped>\n",
       "    .dataframe tbody tr th:only-of-type {\n",
       "        vertical-align: middle;\n",
       "    }\n",
       "\n",
       "    .dataframe tbody tr th {\n",
       "        vertical-align: top;\n",
       "    }\n",
       "\n",
       "    .dataframe thead th {\n",
       "        text-align: right;\n",
       "    }\n",
       "</style>\n",
       "<table border=\"1\" class=\"dataframe\">\n",
       "  <thead>\n",
       "    <tr style=\"text-align: right;\">\n",
       "      <th></th>\n",
       "      <th>High</th>\n",
       "      <th>Low</th>\n",
       "      <th>Open</th>\n",
       "      <th>Close</th>\n",
       "      <th>Volume</th>\n",
       "      <th>Adj Close</th>\n",
       "      <th>returns</th>\n",
       "    </tr>\n",
       "    <tr>\n",
       "      <th>Date</th>\n",
       "      <th></th>\n",
       "      <th></th>\n",
       "      <th></th>\n",
       "      <th></th>\n",
       "      <th></th>\n",
       "      <th></th>\n",
       "      <th></th>\n",
       "    </tr>\n",
       "  </thead>\n",
       "  <tbody>\n",
       "    <tr>\n",
       "      <th>2001-01-03</th>\n",
       "      <td>0.297991</td>\n",
       "      <td>0.257813</td>\n",
       "      <td>0.258929</td>\n",
       "      <td>0.292411</td>\n",
       "      <td>817073600.0</td>\n",
       "      <td>0.250384</td>\n",
       "      <td>0.100841</td>\n",
       "    </tr>\n",
       "    <tr>\n",
       "      <th>2001-01-04</th>\n",
       "      <td>0.330357</td>\n",
       "      <td>0.300223</td>\n",
       "      <td>0.323940</td>\n",
       "      <td>0.304688</td>\n",
       "      <td>739396000.0</td>\n",
       "      <td>0.260896</td>\n",
       "      <td>0.041986</td>\n",
       "    </tr>\n",
       "    <tr>\n",
       "      <th>2001-01-05</th>\n",
       "      <td>0.310268</td>\n",
       "      <td>0.286830</td>\n",
       "      <td>0.302455</td>\n",
       "      <td>0.292411</td>\n",
       "      <td>412356000.0</td>\n",
       "      <td>0.250384</td>\n",
       "      <td>-0.040294</td>\n",
       "    </tr>\n",
       "    <tr>\n",
       "      <th>2001-01-08</th>\n",
       "      <td>0.303292</td>\n",
       "      <td>0.284598</td>\n",
       "      <td>0.302455</td>\n",
       "      <td>0.295759</td>\n",
       "      <td>373699200.0</td>\n",
       "      <td>0.253251</td>\n",
       "      <td>0.011450</td>\n",
       "    </tr>\n",
       "    <tr>\n",
       "      <th>2001-01-09</th>\n",
       "      <td>0.315011</td>\n",
       "      <td>0.295759</td>\n",
       "      <td>0.300223</td>\n",
       "      <td>0.306920</td>\n",
       "      <td>588929600.0</td>\n",
       "      <td>0.262808</td>\n",
       "      <td>0.037737</td>\n",
       "    </tr>\n",
       "  </tbody>\n",
       "</table>\n",
       "</div>"
      ],
      "text/plain": [
       "                High       Low      Open     Close       Volume  Adj Close  \\\n",
       "Date                                                                         \n",
       "2001-01-03  0.297991  0.257813  0.258929  0.292411  817073600.0   0.250384   \n",
       "2001-01-04  0.330357  0.300223  0.323940  0.304688  739396000.0   0.260896   \n",
       "2001-01-05  0.310268  0.286830  0.302455  0.292411  412356000.0   0.250384   \n",
       "2001-01-08  0.303292  0.284598  0.302455  0.295759  373699200.0   0.253251   \n",
       "2001-01-09  0.315011  0.295759  0.300223  0.306920  588929600.0   0.262808   \n",
       "\n",
       "             returns  \n",
       "Date                  \n",
       "2001-01-03  0.100841  \n",
       "2001-01-04  0.041986  \n",
       "2001-01-05 -0.040294  \n",
       "2001-01-08  0.011450  \n",
       "2001-01-09  0.037737  "
      ]
     },
     "execution_count": 3,
     "metadata": {},
     "output_type": "execute_result"
    }
   ],
   "source": [
    "# Calculate daily returns from Adj Close data\n",
    "df['returns'] = df['Adj Close'].pct_change()\n",
    "df = df.dropna()\n",
    "df.head()"
   ]
  },
  {
   "cell_type": "code",
   "execution_count": 4,
   "metadata": {},
   "outputs": [
    {
     "name": "stdout",
     "output_type": "stream",
     "text": [
      "         stationary   circular\n",
      "returns  137.922596  157.88196\n"
     ]
    }
   ],
   "source": [
    "# Calculate optimal block size for bootstrapping time series data\n",
    "from arch.bootstrap import optimal_block_length\n",
    "\n",
    "opt = optimal_block_length(df['returns'] ** 2) # per author we use the squared market return since the Sharpe ratio \n",
    "                                               # depends on the mean and the variance, and the autocorrelation in the squares \n",
    "                                               # is stronger than in the returns.\n",
    "print(opt)"
   ]
  },
  {
   "cell_type": "code",
   "execution_count": 5,
   "metadata": {},
   "outputs": [],
   "source": [
    "# Define Sharpe Ratio function that also calculates annualized mean and std dev of returns \n",
    "def sharpe_ratio(x):\n",
    "    mu, sigma = 252 * x.mean(), np.sqrt(252 * x.var())\n",
    "    values = np.array([mu, sigma, mu / sigma]).squeeze()\n",
    "    index = [\"mu\", \"sigma\", \"SR\"]\n",
    "    return pd.Series(values, index=index)"
   ]
  },
  {
   "cell_type": "code",
   "execution_count": 7,
   "metadata": {},
   "outputs": [],
   "source": [
    "# Bootstrap returns data based on optimal block length by applying \n",
    "# Stationary Bootstrap which uses blocks with exponentially distributed lengths\n",
    "bs = StationaryBootstrap(138,df['returns'])\n",
    "\n",
    "# Obtain Sharpe Ratio, mean returns and st dev for bootstrapped data\n",
    "results = bs.apply(sharpe_ratio)"
   ]
  },
  {
   "cell_type": "code",
   "execution_count": 8,
   "metadata": {},
   "outputs": [
    {
     "data": {
      "text/plain": [
       "mu       0.383701\n",
       "sigma    0.363099\n",
       "SR       1.056740\n",
       "dtype: float64"
      ]
     },
     "execution_count": 8,
     "metadata": {},
     "output_type": "execute_result"
    }
   ],
   "source": [
    "params = sharpe_ratio(df['returns'])\n",
    "params"
   ]
  },
  {
   "cell_type": "code",
   "execution_count": 9,
   "metadata": {},
   "outputs": [
    {
     "name": "stdout",
     "output_type": "stream",
     "text": [
      "             mu     sigma        SR\n",
      "Lower  0.234503  0.313307  0.640979\n",
      "Upper  0.544222  0.410997  1.526054\n"
     ]
    }
   ],
   "source": [
    "# Calculate confidence interval 0.95 for Sharpe Ratio\n",
    "ci = bs.conf_int(sharpe_ratio, 1000, method=\"percentile\", size=0.95)\n",
    "ci = pd.DataFrame(ci, index=[\"Lower\", \"Upper\"], columns=params.index)\n",
    "print(ci)"
   ]
  },
  {
   "cell_type": "code",
   "execution_count": 10,
   "metadata": {},
   "outputs": [
    {
     "data": {
      "text/plain": [
       "Text(0.5, 1.0, 'SR Confidence Interval 0.95')"
      ]
     },
     "execution_count": 10,
     "metadata": {},
     "output_type": "execute_result"
    },
    {
     "data": {
      "image/png": "[encoded data removed]",
      "text/plain": [
       "<Figure size 864x432 with 1 Axes>"
      ]
     },
     "metadata": {
      "needs_background": "light"
     },
     "output_type": "display_data"
    }
   ],
   "source": [
    "# Plot confidence interval 0.95 for Sharpe Ratio\n",
    "sharpe = pd.DataFrame(results[:, -1:], columns=[\"SR\"])\n",
    "fig = sharpe.hist(bins=40, figsize=(12,6))\n",
    "plt.axvline(ci.iloc[1,2], c='y')\n",
    "plt.axvline(ci.iloc[0,2], c='r')\n",
    "plt.title('SR Confidence Interval 0.95')"
   ]
  }
 ],
 "metadata": {
  "interpreter": {
   "hash": "fa10e4d23cb6875f32a98d87ab72537897db17a0571fee4e5efbb78be7a71dec"
  },
  "kernelspec": {
   "display_name": "Python 3.9.12 ('bootstrap')",
   "language": "python",
   "name": "python3"
  },
  "language_info": {
   "codemirror_mode": {
    "name": "ipython",
    "version": 3
   },
   "file_extension": ".py",
   "mimetype": "text/x-python",
   "name": "python",
   "nbconvert_exporter": "python",
   "pygments_lexer": "ipython3",
   "version": "3.9.12"
  },
  "orig_nbformat": 4
 },
 "nbformat": 4,
 "nbformat_minor": 2
}
